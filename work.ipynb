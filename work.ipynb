{
 "cells": [
  {
   "cell_type": "code",
   "execution_count": 1,
   "metadata": {},
   "outputs": [
    {
     "name": "stderr",
     "output_type": "stream",
     "text": [
      "c:\\Users\\Denis\\anaconda3\\lib\\site-packages\\pandas\\core\\arrays\\masked.py:60: UserWarning: Pandas requires version '1.3.6' or newer of 'bottleneck' (version '1.3.5' currently installed).\n",
      "  from pandas.core import (\n"
     ]
    }
   ],
   "source": [
    "import pandas as pd"
   ]
  },
  {
   "cell_type": "code",
   "execution_count": 2,
   "metadata": {},
   "outputs": [],
   "source": [
    "df = pd.read_excel('МА от КОВИД без препаратов.xlsx')"
   ]
  },
  {
   "cell_type": "code",
   "execution_count": 3,
   "metadata": {},
   "outputs": [
    {
     "data": {
      "text/html": [
       "<div>\n",
       "<style scoped>\n",
       "    .dataframe tbody tr th:only-of-type {\n",
       "        vertical-align: middle;\n",
       "    }\n",
       "\n",
       "    .dataframe tbody tr th {\n",
       "        vertical-align: top;\n",
       "    }\n",
       "\n",
       "    .dataframe thead th {\n",
       "        text-align: right;\n",
       "    }\n",
       "</style>\n",
       "<table border=\"1\" class=\"dataframe\">\n",
       "  <thead>\n",
       "    <tr style=\"text-align: right;\">\n",
       "      <th></th>\n",
       "      <th>Номер</th>\n",
       "      <th>Перенес/ не перенес КВИ</th>\n",
       "      <th>Возраст</th>\n",
       "      <th>Пол</th>\n",
       "      <th>Рост, см</th>\n",
       "      <th>Вес, кг</th>\n",
       "      <th>ИМТ 2 (ФОРМУЛА EXCEL)</th>\n",
       "      <th>Эритроциты</th>\n",
       "      <th>Гемоглобин</th>\n",
       "      <th>Лейкоциты</th>\n",
       "      <th>...</th>\n",
       "      <th>КДР ЛЖ, мм</th>\n",
       "      <th>КСР ЛЖ, мм</th>\n",
       "      <th>КДО ЛЖ, мл</th>\n",
       "      <th>КСО ЛЖ, мл</th>\n",
       "      <th>Сократимость ЛЖ</th>\n",
       "      <th>Толщина стенки ЛЖ, мм</th>\n",
       "      <th>ФВ, %</th>\n",
       "      <th>ММЛЖ, г</th>\n",
       "      <th>НАЖБП</th>\n",
       "      <th>Мерцательная аритмия (ЕСТЬ\\НЕТ)</th>\n",
       "    </tr>\n",
       "  </thead>\n",
       "  <tbody>\n",
       "    <tr>\n",
       "      <th>0</th>\n",
       "      <td>390</td>\n",
       "      <td>1</td>\n",
       "      <td>68.0</td>\n",
       "      <td>2</td>\n",
       "      <td>158.0</td>\n",
       "      <td>86.0</td>\n",
       "      <td>NaN</td>\n",
       "      <td>5.33</td>\n",
       "      <td>163.0</td>\n",
       "      <td>9.61</td>\n",
       "      <td>...</td>\n",
       "      <td>61</td>\n",
       "      <td>48.0</td>\n",
       "      <td>165.0</td>\n",
       "      <td>106.0</td>\n",
       "      <td>0.0</td>\n",
       "      <td>8.0</td>\n",
       "      <td>36.0</td>\n",
       "      <td>NaN</td>\n",
       "      <td>1.0</td>\n",
       "      <td>0.0</td>\n",
       "    </tr>\n",
       "    <tr>\n",
       "      <th>1</th>\n",
       "      <td>337</td>\n",
       "      <td>1</td>\n",
       "      <td>54.0</td>\n",
       "      <td>1</td>\n",
       "      <td>180.0</td>\n",
       "      <td>119.0</td>\n",
       "      <td>NaN</td>\n",
       "      <td>5.01</td>\n",
       "      <td>130.0</td>\n",
       "      <td>10.48</td>\n",
       "      <td>...</td>\n",
       "      <td>69</td>\n",
       "      <td>60.0</td>\n",
       "      <td>247.0</td>\n",
       "      <td>177.0</td>\n",
       "      <td>NaN</td>\n",
       "      <td>9.0</td>\n",
       "      <td>23.0</td>\n",
       "      <td>NaN</td>\n",
       "      <td>0.0</td>\n",
       "      <td>0.0</td>\n",
       "    </tr>\n",
       "    <tr>\n",
       "      <th>2</th>\n",
       "      <td>160</td>\n",
       "      <td>1</td>\n",
       "      <td>68.0</td>\n",
       "      <td>1</td>\n",
       "      <td>174.0</td>\n",
       "      <td>110.0</td>\n",
       "      <td>NaN</td>\n",
       "      <td>NaN</td>\n",
       "      <td>161.0</td>\n",
       "      <td>5.40</td>\n",
       "      <td>...</td>\n",
       "      <td>60</td>\n",
       "      <td>NaN</td>\n",
       "      <td>185.0</td>\n",
       "      <td>120.0</td>\n",
       "      <td>2.0</td>\n",
       "      <td>12.0</td>\n",
       "      <td>35.0</td>\n",
       "      <td>NaN</td>\n",
       "      <td>0.0</td>\n",
       "      <td>1.0</td>\n",
       "    </tr>\n",
       "    <tr>\n",
       "      <th>3</th>\n",
       "      <td>166</td>\n",
       "      <td>1</td>\n",
       "      <td>67.0</td>\n",
       "      <td>1</td>\n",
       "      <td>189.0</td>\n",
       "      <td>110.0</td>\n",
       "      <td>NaN</td>\n",
       "      <td>4.47</td>\n",
       "      <td>134.0</td>\n",
       "      <td>8.50</td>\n",
       "      <td>...</td>\n",
       "      <td>57</td>\n",
       "      <td>51.0</td>\n",
       "      <td>106.0</td>\n",
       "      <td>NaN</td>\n",
       "      <td>2.0</td>\n",
       "      <td>12.0</td>\n",
       "      <td>23.0</td>\n",
       "      <td>NaN</td>\n",
       "      <td>0.0</td>\n",
       "      <td>0.0</td>\n",
       "    </tr>\n",
       "    <tr>\n",
       "      <th>4</th>\n",
       "      <td>439</td>\n",
       "      <td>1</td>\n",
       "      <td>60.0</td>\n",
       "      <td>1</td>\n",
       "      <td>178.0</td>\n",
       "      <td>115.0</td>\n",
       "      <td>NaN</td>\n",
       "      <td>5.44</td>\n",
       "      <td>166.0</td>\n",
       "      <td>9.06</td>\n",
       "      <td>...</td>\n",
       "      <td>51</td>\n",
       "      <td>38.0</td>\n",
       "      <td>NaN</td>\n",
       "      <td>NaN</td>\n",
       "      <td>2.0</td>\n",
       "      <td>10.0</td>\n",
       "      <td>39.0</td>\n",
       "      <td>NaN</td>\n",
       "      <td>0.0</td>\n",
       "      <td>0.0</td>\n",
       "    </tr>\n",
       "  </tbody>\n",
       "</table>\n",
       "<p>5 rows × 93 columns</p>\n",
       "</div>"
      ],
      "text/plain": [
       "   Номер  Перенес/ не перенес КВИ  Возраст  Пол  Рост, см  Вес, кг  \\\n",
       "0    390                        1     68.0    2     158.0     86.0   \n",
       "1    337                        1     54.0    1     180.0    119.0   \n",
       "2    160                        1     68.0    1     174.0    110.0   \n",
       "3    166                        1     67.0    1     189.0    110.0   \n",
       "4    439                        1     60.0    1     178.0    115.0   \n",
       "\n",
       "   ИМТ 2 (ФОРМУЛА EXCEL)  Эритроциты  Гемоглобин  Лейкоциты  ...  КДР ЛЖ, мм  \\\n",
       "0                    NaN        5.33       163.0       9.61  ...          61   \n",
       "1                    NaN        5.01       130.0      10.48  ...          69   \n",
       "2                    NaN         NaN       161.0       5.40  ...          60   \n",
       "3                    NaN        4.47       134.0       8.50  ...          57   \n",
       "4                    NaN        5.44       166.0       9.06  ...          51   \n",
       "\n",
       "   КСР ЛЖ, мм  КДО ЛЖ, мл  КСО ЛЖ, мл  Сократимость ЛЖ  Толщина стенки ЛЖ, мм  \\\n",
       "0        48.0       165.0       106.0              0.0                    8.0   \n",
       "1        60.0       247.0       177.0              NaN                    9.0   \n",
       "2         NaN       185.0       120.0              2.0                   12.0   \n",
       "3        51.0       106.0         NaN              2.0                   12.0   \n",
       "4        38.0         NaN         NaN              2.0                   10.0   \n",
       "\n",
       "   ФВ, %  ММЛЖ, г  НАЖБП  Мерцательная аритмия (ЕСТЬ\\НЕТ)  \n",
       "0   36.0      NaN    1.0                              0.0  \n",
       "1   23.0      NaN    0.0                              0.0  \n",
       "2   35.0      NaN    0.0                              1.0  \n",
       "3   23.0      NaN    0.0                              0.0  \n",
       "4   39.0      NaN    0.0                              0.0  \n",
       "\n",
       "[5 rows x 93 columns]"
      ]
     },
     "execution_count": 3,
     "metadata": {},
     "output_type": "execute_result"
    }
   ],
   "source": [
    "df.head()"
   ]
  },
  {
   "cell_type": "markdown",
   "metadata": {},
   "source": [
    "# исследовательский анализ данных"
   ]
  },
  {
   "cell_type": "code",
   "execution_count": 4,
   "metadata": {},
   "outputs": [
    {
     "data": {
      "text/plain": [
       "<Axes: >"
      ]
     },
     "execution_count": 4,
     "metadata": {},
     "output_type": "execute_result"
    },
    {
     "data": {
      "image/png": "[encoded data removed]",
      "text/plain": [
       "<Figure size 640x480 with 1 Axes>"
      ]
     },
     "metadata": {},
     "output_type": "display_data"
    }
   ],
   "source": [
    "df['Рост, см'].plot(kind='box')"
   ]
  }
 ],
 "metadata": {
  "kernelspec": {
   "display_name": "base",
   "language": "python",
   "name": "python3"
  },
  "language_info": {
   "codemirror_mode": {
    "name": "ipython",
    "version": 3
   },
   "file_extension": ".py",
   "mimetype": "text/x-python",
   "name": "python",
   "nbconvert_exporter": "python",
   "pygments_lexer": "ipython3",
   "version": "3.10.9"
  }
 },
 "nbformat": 4,
 "nbformat_minor": 2
}
